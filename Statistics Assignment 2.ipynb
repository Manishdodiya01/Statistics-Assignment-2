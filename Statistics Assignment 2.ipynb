{
 "cells": [
  {
   "cell_type": "markdown",
   "id": "2ecd032d-92e4-490a-ac59-f579f6327029",
   "metadata": {
    "jp-MarkdownHeadingCollapsed": true,
    "tags": []
   },
   "source": [
    "# Q1. What are the three measures of central tendency?"
   ]
  },
  {
   "cell_type": "markdown",
   "id": "d17d3d92-d67d-4bb3-98cb-baefde6938b6",
   "metadata": {},
   "source": [
    "The three measures of central tendency are:\n",
    "\n",
    "1. Mean: The mean is calculated by adding up all the values in a data set and then dividing the sum by the total number of values. It represents the average value of the data set and is influenced by extreme values.\n",
    "\n",
    "2. Median: The median is the middle value of a data set when the values are arranged in ascending or descending order. If the data set has an odd number of values, the median is the middle value. If the data set has an even number of values, the median is the average of the two middle values.\n",
    "\n",
    "3. Mode: The mode is the value that appears most frequently in a data set. A data set can have one mode (unimodal) or multiple modes (multimodal) if there are several values with the same highest frequency. It is useful for categorical or discrete data, but it can also be applied to continuous data with grouped frequency distributions."
   ]
  },
  {
   "cell_type": "markdown",
   "id": "daa9d4f7-9c64-44b3-a076-f027d0237a62",
   "metadata": {
    "jp-MarkdownHeadingCollapsed": true,
    "tags": []
   },
   "source": [
    "# Q2. What is the difference between the mean, median, and mode? How are they used to measure the\n",
    "central tendency of a dataset?"
   ]
  },
  {
   "cell_type": "markdown",
   "id": "01834c06-bf3b-498d-9573-44813f4a8b97",
   "metadata": {},
   "source": [
    "The mean, median, and mode are three different measures of central tendency, used to understand the central or typical value of a dataset. Here's how they differ and how they are used:\n",
    "\n",
    "1. Mean:\n",
    "- The mean is the average value of a dataset.\n",
    "- It is calculated by summing up all the values in the dataset and then dividing the sum by the total number of values.\n",
    "- The mean is sensitive to extreme values, which means outliers can significantly affect its value.\n",
    "- It is commonly used when dealing with continuous and interval data, where the values have a natural order and can be averaged.\n",
    "\n",
    "2. Median:\n",
    "- The median is the middle value of a dataset when the values are arranged in ascending or descending order.\n",
    "- If the dataset has an odd number of values, the median is the middle value itself.\n",
    "- If the dataset has an even number of values, the median is the average of the two middle values.\n",
    "- The median is not affected by extreme values or outliers, making it a more robust measure of central tendency in the presence of skewed data.\n",
    "- It is commonly used when dealing with ordinal or skewed data, where the central value is more representative of the dataset than the mean.\n",
    "\n",
    "3. Mode:\n",
    "- The mode is the value that appears most frequently in a dataset.\n",
    "- A dataset can have one mode (unimodal) or multiple modes (multimodal) if there are several values with the same highest frequency.\n",
    "- The mode is useful for categorical or discrete data, but it can also be applied to continuous data with grouped frequency distributions.\n",
    "- It is not affected by extreme values and is particularly helpful when dealing with nominal data, such as categories or labels.\n",
    "\n",
    "In summary, these measures of central tendency provide different perspectives on the typical value of a dataset. The mean is commonly used when dealing with continuous data and has a strong connection with mathematical properties. The median is preferred when dealing with skewed data or ordinal variables to avoid the influence of outliers. The mode is useful for categorical or nominal data to identify the most frequent value or category. The choice of which measure to use depends on the nature of the data and the research question at hand."
   ]
  },
  {
   "cell_type": "markdown",
   "id": "1d8f3e94-17ba-43b7-b697-7e3c9025ae59",
   "metadata": {},
   "source": [
    "# Q3. Measure the three measures of central tendency for the given height data:\n",
    "[178,177,176,177,178.2,178,175,179,180,175,178.9,176.2,177,172.5,178,176.5]"
   ]
  },
  {
   "cell_type": "code",
   "execution_count": 19,
   "id": "9f7f694b-be4c-47bd-867f-16aa45d939a1",
   "metadata": {},
   "outputs": [
    {
     "data": {
      "text/plain": [
       "177.01875"
      ]
     },
     "execution_count": 19,
     "metadata": {},
     "output_type": "execute_result"
    }
   ],
   "source": [
    "import numpy as np\n",
    "data = [178,177,176,177,178.2,178,175,179,180,175,178.9,176.2,177,172.5,178,176.5]\n",
    "np.mean(data)"
   ]
  },
  {
   "cell_type": "code",
   "execution_count": 20,
   "id": "6c33ad5b-5cb1-4780-beb7-680003409623",
   "metadata": {},
   "outputs": [
    {
     "data": {
      "text/plain": [
       "177.0"
      ]
     },
     "execution_count": 20,
     "metadata": {},
     "output_type": "execute_result"
    }
   ],
   "source": [
    "np.median(data)"
   ]
  },
  {
   "cell_type": "code",
   "execution_count": 23,
   "id": "88d7380d-ae83-457a-9688-a6d97eeb1cb1",
   "metadata": {},
   "outputs": [],
   "source": [
    "from scipy import stats as st"
   ]
  },
  {
   "cell_type": "code",
   "execution_count": 24,
   "id": "d066b95f-ea39-44b4-b085-b82d1435a831",
   "metadata": {},
   "outputs": [
    {
     "name": "stderr",
     "output_type": "stream",
     "text": [
      "/tmp/ipykernel_77/1907925539.py:1: FutureWarning: Unlike other reduction functions (e.g. `skew`, `kurtosis`), the default behavior of `mode` typically preserves the axis it acts along. In SciPy 1.11.0, this behavior will change: the default value of `keepdims` will become False, the `axis` over which the statistic is taken will be eliminated, and the value None will no longer be accepted. Set `keepdims` to True or False to avoid this warning.\n",
      "  st.mode(data)\n"
     ]
    },
    {
     "data": {
      "text/plain": [
       "ModeResult(mode=array([177.]), count=array([3]))"
      ]
     },
     "execution_count": 24,
     "metadata": {},
     "output_type": "execute_result"
    }
   ],
   "source": [
    "st.mode(data)"
   ]
  },
  {
   "cell_type": "markdown",
   "id": "2dd1a67b-a201-4087-bf95-5f82616abfd5",
   "metadata": {},
   "source": [
    "# Q4. Find the standard deviation for the given data:\n",
    "[178,177,176,177,178.2,178,175,179,180,175,178.9,176.2,177,172.5,178,176.5]"
   ]
  },
  {
   "cell_type": "code",
   "execution_count": 25,
   "id": "a28206a2-5acf-48be-8224-f215667bae97",
   "metadata": {},
   "outputs": [],
   "source": [
    "data2 = [178,177,176,177,178.2,178,175,179,180,175,178.9,176.2,177,172.5,178,176.5]"
   ]
  },
  {
   "cell_type": "code",
   "execution_count": 26,
   "id": "77188a5a-155e-4b13-8c72-01c51e745507",
   "metadata": {},
   "outputs": [
    {
     "data": {
      "text/plain": [
       "1.7885814036548633"
      ]
     },
     "execution_count": 26,
     "metadata": {},
     "output_type": "execute_result"
    }
   ],
   "source": [
    "np.std(data2)"
   ]
  },
  {
   "cell_type": "markdown",
   "id": "671b59fa-3688-4ee3-adf4-ba799d129706",
   "metadata": {},
   "source": [
    "# Q5. How are measures of dispersion such as range, variance, and standard deviation used to describe\n",
    "the spread of a dataset? Provide an example."
   ]
  },
  {
   "cell_type": "markdown",
   "id": "34f5267d-2327-41e6-8682-dcbb32f6f828",
   "metadata": {},
   "source": [
    "Measures of dispersion, such as range, variance, and standard deviation, are used to describe the spread or variability of a dataset. They provide valuable information about how the data points are distributed around the central tendency (mean, median, or mode) and help to understand the degree of variability within the dataset. Let's explore each measure and provide an example to illustrate their usage:\n",
    "\n",
    "1. Range:\n",
    "The range is the simplest measure of dispersion, and it represents the difference between the largest and smallest values in the dataset. It gives an idea of how much the data is spread out from one extreme to the other.\n",
    "\n",
    "Example:\n",
    "Consider the following dataset representing the ages of a group of people: [20, 25, 22, 28, 19, 30]\n",
    "Range = Maximum value - Minimum value = 30 - 19 = 11\n",
    "The range of this dataset is 11, indicating that the ages are spread out across an 11-year range.\n",
    "\n",
    "2. Variance:\n",
    "Variance measures the average squared deviation from the mean. It quantifies how much the data points deviate from the mean and provides a measure of the overall dispersion.\n",
    "\n",
    "Example:\n",
    "Consider the dataset of exam scores: [85, 89, 92, 78, 80]\n",
    "Step 1: Calculate the mean: (85 + 89 + 92 + 78 + 80) / 5 = 84.8\n",
    "Step 2: Calculate the squared deviations from the mean:\n",
    "(85 - 84.8)^2 = 0.04\n",
    "(89 - 84.8)^2 = 17.64\n",
    "(92 - 84.8)^2 = 52.84\n",
    "(78 - 84.8)^2 = 45.64\n",
    "(80 - 84.8)^2 = 23.04\n",
    "Step 3: Calculate the variance:\n",
    "Variance = (0.04 + 17.64 + 52.84 + 45.64 + 23.04) / 5 = 27.24\n",
    "The variance of this dataset is approximately 27.24.\n",
    "\n",
    "3. Standard Deviation:\n",
    "The standard deviation is the square root of the variance. It is a widely used measure of dispersion, providing a more interpretable value compared to the variance. It represents the average amount of deviation of data points from the mean.\n",
    "\n",
    "Example (using the same dataset as above):\n",
    "Standard Deviation = √27.24 ≈ 5.219\n",
    "The standard deviation of this dataset is approximately 5.219.\n",
    "\n",
    "In summary, measures of dispersion like range, variance, and standard deviation complement measures of central tendency by providing information about the spread and variability of the data. They are valuable in various fields, such as finance, research, and data analysis, to understand the distribution and characteristics of datasets."
   ]
  },
  {
   "cell_type": "markdown",
   "id": "e5c6f689-d96f-4cf7-a315-ea41e6087a57",
   "metadata": {},
   "source": [
    "# Q6. What is a Venn diagram?"
   ]
  },
  {
   "cell_type": "markdown",
   "id": "0e9fe7f2-790d-4221-8dc7-01d65fdaacdc",
   "metadata": {},
   "source": [
    "A Venn diagram is a visual representation used to show the relationships between different sets of elements or groups. It consists of overlapping circles (or other shapes) that represent the sets, with each circle representing a specific category or group. The overlapping regions show the elements that belong to multiple sets, while the non-overlapping regions represent elements unique to each set.\n",
    "\n",
    "The primary purpose of a Venn diagram is to illustrate the commonalities and differences between sets and to help visualize set operations like union, intersection, and complement. These diagrams are widely used in mathematics, logic, statistics, and various fields where set theory and data analysis are involved.\n",
    "\n",
    "The standard Venn diagram uses circles, but variations with different shapes, such as rectangles, can also be used to represent the sets. Venn diagrams are simple and intuitive tools, making them valuable for educational purposes and presenting complex relationships in an easy-to-understand format.\n",
    "\n",
    "Let's look at a simple example of a Venn diagram:\n",
    "\n",
    "Consider two sets: Set A, representing people who like pizza, and Set B, representing people who like burgers.\n",
    "\n",
    "- Circle A: Contains elements (people) who like pizza.\n",
    "- Circle B: Contains elements (people) who like burgers.\n",
    "- Overlapping region: Contains elements (people) who like both pizza and burgers.\n",
    "- Non-overlapping regions: Contains elements (people) who like only pizza or only burgers.\n",
    "\n",
    "By using a Venn diagram in this scenario, you can quickly see the number of people who like only pizza, only burgers, or both, as well as the total number of people who like either pizza or burgers."
   ]
  },
  {
   "cell_type": "markdown",
   "id": "ea585b68-cdd9-4ea6-985a-b96155b39fa9",
   "metadata": {},
   "source": [
    "# Q7. For the two given sets A = (2,3,4,5,6,7) & B = (0,2,6,8,10). Find:\n",
    "(i) A B\n",
    "(ii) A ⋃ B"
   ]
  },
  {
   "cell_type": "code",
   "execution_count": 4,
   "id": "21dd6e04-c59b-47c1-97a4-b0a317301a14",
   "metadata": {},
   "outputs": [],
   "source": [
    "#(i)A ∩ B = {2,6}\n",
    "#(ii)A ∪ B = {0,2,3,4,5,6,7,8,10}"
   ]
  },
  {
   "cell_type": "markdown",
   "id": "2675b95a-0e13-467c-bf7d-f4a853d2a2c0",
   "metadata": {},
   "source": [
    "# Q8. What do you understand about skewness in data?"
   ]
  },
  {
   "cell_type": "markdown",
   "id": "105f20ff-ebf4-4ec0-b9d6-b7070038f712",
   "metadata": {},
   "source": [
    "Skewness is a statistical measure that helps us understand the asymmetry of the probability distribution of a dataset. In simpler terms, it indicates the degree to which a dataset's distribution deviates from being symmetrical (bell-shaped) around its mean.\n",
    "\n",
    "In a symmetrical distribution, the data points are evenly distributed on both sides of the mean, and the graph of the distribution would appear to be roughly symmetric. However, in a skewed distribution, the data points tend to be concentrated more on one side of the mean, causing the graph to be stretched towards that direction.\n",
    "\n",
    "There are three types of skewness:\n",
    "\n",
    "1. Positive Skewness (Right Skewness):\n",
    "   - In a positively skewed distribution, the tail of the distribution extends towards the right side (higher values).\n",
    "   - The mean is typically greater than the median and mode.\n",
    "   - This commonly occurs in datasets with a few extremely large values that pull the mean in their direction.\n",
    "\n",
    "2. Negative Skewness (Left Skewness):\n",
    "   - In a negatively skewed distribution, the tail of the distribution extends towards the left side (lower values).\n",
    "   - The mean is typically less than the median and mode.\n",
    "   - This often happens in datasets with a few extremely small values that pull the mean in their direction.\n",
    "\n",
    "3. Symmetrical Distribution:\n",
    "   - In a symmetrical distribution, the data is evenly distributed around the mean, and there is no skewness.\n",
    "   - The mean, median, and mode are approximately equal.\n",
    "\n",
    "Skewness is an important concept in statistics because it helps us understand the shape of a dataset's distribution and identify potential outliers or extreme values that can impact the interpretation of data analysis. Skewness can be quantitatively measured using different methods, with the most common measure being Pearson's first skewness coefficient or the third standardized moment. These measures provide a numeric value representing the direction and degree of skewness in the data."
   ]
  },
  {
   "cell_type": "markdown",
   "id": "86c4df0c-0f2b-4c06-8d22-69c3796a7d00",
   "metadata": {},
   "source": [
    "# Q9. If a data is right skewed then what will be the position of median with respect to mean?"
   ]
  },
  {
   "cell_type": "markdown",
   "id": "645ba72e-dd50-4b16-8364-b0ec928b9b55",
   "metadata": {},
   "source": [
    "If a dataset is right-skewed, the position of the median will be to the left of the mean. Let's understand why this is the case:\n",
    "\n",
    "In a right-skewed distribution:\n",
    "- The tail of the distribution extends towards the right side, which means there are relatively more higher values in the dataset.\n",
    "- As a result, the extreme values on the right side (higher values) have a greater influence on the mean, pulling it in that direction.\n",
    "\n",
    "On the other hand:\n",
    "- The median is not affected by extreme values; it only depends on the central value(s) of the dataset.\n",
    "- Since there are more higher values in a right-skewed distribution, the central value (median) will be closer to the left side, away from the extreme higher values that are pulling the mean to the right.\n",
    "\n",
    "To summarize:\n",
    "- Mean: The mean will be pulled towards the right side due to the presence of higher extreme values.\n",
    "- Median: The median will be positioned to the left of the mean, closer to the center of the dataset.\n",
    "\n",
    "In graphical terms, in a right-skewed distribution, the mean will be shifted to the right, towards the longer tail, while the median will be positioned to the left, towards the thicker part of the distribution."
   ]
  },
  {
   "cell_type": "markdown",
   "id": "d8f054e1-e38a-4554-9d64-57f35768ce0e",
   "metadata": {},
   "source": [
    "# Q10. Explain the difference between covariance and correlation. How are these measures used in\n",
    "statistical analysis?"
   ]
  },
  {
   "cell_type": "markdown",
   "id": "607e0dee-33d5-48df-b83e-ed785fc26032",
   "metadata": {},
   "source": [
    "Covariance and correlation are two important statistical measures used to quantify the relationship between two variables in a dataset. While they are related concepts, they serve different purposes and have distinct interpretations.\n",
    "\n",
    "1. Covariance:\n",
    "Covariance measures the degree to which two variables change together. It indicates the direction of the relationship between two variables (whether they move in the same or opposite direction) and the magnitude of their joint variability. The formula for the sample covariance of two variables X and Y with n data points is:\n",
    "\n",
    "\\[ \\text{cov}(X, Y) = \\frac{\\sum_{i=1}^{n} (X_i - \\bar{X})(Y_i - \\bar{Y})}{n-1} \\]\n",
    "\n",
    "where:\n",
    "- \\(X_i\\) and \\(Y_i\\) are individual data points of variables X and Y, respectively.\n",
    "- \\(\\bar{X}\\) and \\(\\bar{Y}\\) are the sample means of X and Y, respectively.\n",
    "- \\(n\\) is the number of data points.\n",
    "\n",
    "Interpretation of covariance:\n",
    "- If \\(\\text{cov}(X, Y) > 0\\): The variables X and Y have a positive covariance, indicating they tend to increase or decrease together.\n",
    "- If \\(\\text{cov}(X, Y) < 0\\): The variables X and Y have a negative covariance, indicating they tend to move in opposite directions.\n",
    "- If \\(\\text{cov}(X, Y) = 0\\): The variables X and Y have no linear relationship or association, but this doesn't necessarily mean they are independent.\n",
    "\n",
    "2. Correlation:\n",
    "Correlation is a standardized measure of the linear relationship between two variables. It expresses the strength and direction of the relationship, ranging from -1 to 1. The most commonly used correlation coefficient is the Pearson correlation coefficient, denoted by \\(r\\). The formula for the sample Pearson correlation coefficient is:\n",
    "\n",
    "\\[ r = \\frac{\\text{cov}(X, Y)}{s_X \\cdot s_Y} \\]\n",
    "\n",
    "where:\n",
    "- \\(\\text{cov}(X, Y)\\) is the covariance between X and Y.\n",
    "- \\(s_X\\) and \\(s_Y\\) are the sample standard deviations of X and Y, respectively.\n",
    "\n",
    "Interpretation of correlation:\n",
    "- \\(r > 0\\): Positive correlation. As one variable increases, the other tends to increase as well.\n",
    "- \\(r < 0\\): Negative correlation. As one variable increases, the other tends to decrease.\n",
    "- \\(r \\approx 0\\): Little to no linear relationship between the variables.\n",
    "\n",
    "How are these measures used in statistical analysis?\n",
    "- Covariance and correlation are used to identify the relationship between two variables. They help determine if changes in one variable are associated with changes in another.\n",
    "- Correlation, being a standardized measure, is particularly useful as it allows for comparison between different datasets with different scales and units.\n",
    "- These measures are often used in data exploration, regression analysis, portfolio management, and various fields of research to gain insights into the associations between variables and to make data-driven decisions.\n",
    "\n",
    "It's essential to note that correlation does not imply causation. Even if two variables have a strong correlation, it does not necessarily mean that one variable causes the other to change."
   ]
  },
  {
   "cell_type": "markdown",
   "id": "fdd7add2-043e-4539-b612-9f1f20925f92",
   "metadata": {},
   "source": [
    "# Q11. What is the formula for calculating the sample mean? Provide an example calculation for a\n",
    "dataset."
   ]
  },
  {
   "cell_type": "code",
   "execution_count": 8,
   "id": "1f05c605-dcf0-4642-9e9e-639ea7613a59",
   "metadata": {},
   "outputs": [
    {
     "name": "stdout",
     "output_type": "stream",
     "text": [
      "sample_mean:  25.0\n"
     ]
    }
   ],
   "source": [
    "dataset = [10,15,20,25,30,35,40]\n",
    "sample_mean = sum(dataset) / len(dataset)\n",
    "print(\"sample_mean: \" , sample_mean)"
   ]
  },
  {
   "cell_type": "markdown",
   "id": "eb31ca44-43cc-4541-9b77-9bf31b0592dc",
   "metadata": {},
   "source": [
    "# Q12. For a normal distribution data what is the relationship between its measure of central tendency?"
   ]
  },
  {
   "cell_type": "markdown",
   "id": "df999f17-db5c-4473-a393-0715ae6fc6aa",
   "metadata": {},
   "source": [
    "In a normal distribution, which is a symmetric bell-shaped distribution, the three measures of central tendency, namely the mean, median, and mode, have a special relationship:\n",
    "\n",
    "1. Mean:\n",
    "In a normal distribution, the mean (average) is located at the center of the distribution, exactly at the peak of the symmetric bell-shaped curve. The mean is often denoted by the symbol \\(\\mu\\) (mu).\n",
    "\n",
    "2. Median:\n",
    "The median in a normal distribution is also located at the center of the distribution, just like the mean. Because the normal distribution is symmetric, the mean and median are the same. This means that the median is equal to the mean, and it is also denoted by the symbol \\(\\mu\\) (mu).\n",
    "\n",
    "3. Mode:\n",
    "In a normal distribution, there is no single mode because every value occurs with the same frequency. All points on the curve are equally likely to be observed, resulting in a continuous distribution without distinct modes."
   ]
  },
  {
   "cell_type": "markdown",
   "id": "b7fbeec2-cf3a-4f1b-8093-31878fb12347",
   "metadata": {},
   "source": [
    "# Q13. How is covariance different from correlation?"
   ]
  },
  {
   "cell_type": "markdown",
   "id": "bcc95753-131b-431c-b9ca-0d9d28fad6de",
   "metadata": {},
   "source": [
    "Covariance and correlation are two related but different measures used to quantify the relationship between two variables in a dataset. Let's explore their differences:\n",
    "\n",
    "1. Definition and Interpretation:\n",
    "- Covariance: Covariance measures the degree to which two variables change together. It indicates the direction of the relationship between the variables (whether they move in the same or opposite direction) and the magnitude of their joint variability. However, it doesn't provide information about the strength of the relationship in a standardized way.\n",
    "- Correlation: Correlation is a standardized measure of the linear relationship between two variables. It expresses the strength and direction of the relationship on a scale from -1 to 1. A correlation of 1 indicates a perfect positive linear relationship, -1 indicates a perfect negative linear relationship, and 0 indicates no linear relationship.\n",
    "\n",
    "2. Scale:\n",
    "- Covariance: The value of covariance is not standardized, which means it depends on the units of the variables. If the variables are measured in different units or have different scales, the magnitude of covariance can be significantly affected.\n",
    "- Correlation: The correlation coefficient is standardized, and it is unitless. This makes it easier to compare the strength of the relationship between different pairs of variables, regardless of their original units.\n",
    "\n",
    "3. Range:\n",
    "- Covariance: The covariance can take any real value, ranging from negative infinity to positive infinity. It is not bounded.\n",
    "- Correlation: The correlation coefficient is bounded between -1 and 1, with -1 indicating a perfect negative linear relationship, 1 indicating a perfect positive linear relationship, and 0 indicating no linear relationship.\n",
    "\n",
    "4. Interpretation of Strength:\n",
    "- Covariance: Since covariance is not standardized, it is challenging to interpret its magnitude. A large positive covariance indicates that the variables tend to increase or decrease together, while a large negative covariance indicates they tend to move in opposite directions. However, the exact strength of the relationship is not immediately evident from the covariance value.\n",
    "- Correlation: The correlation coefficient provides a clear indication of the strength of the linear relationship between two variables. A correlation of 1 or -1 suggests a strong linear relationship, while a correlation close to 0 indicates a weak or no linear relationship."
   ]
  },
  {
   "cell_type": "markdown",
   "id": "27f1f55e-b228-4c06-a0ad-4e13b8b2ea43",
   "metadata": {},
   "source": [
    "# Q14. How do outliers affect measures of central tendency and dispersion? Provide an example."
   ]
  },
  {
   "cell_type": "code",
   "execution_count": 14,
   "id": "96ad8352-8189-4ab9-b187-e447d7289e9d",
   "metadata": {},
   "outputs": [
    {
     "name": "stdout",
     "output_type": "stream",
     "text": [
      "with outliers\n",
      "mean: 57.5\n",
      "median: 12.5\n",
      "std: 82.34834546000302\n",
      "max: 200\n",
      "min: 5\n",
      "\n",
      "Without Outlier:\n",
      "mean: 12.5\n",
      "median: 12.5\n",
      "std: 5.5901699437494745\n",
      "max: 20\n",
      "min: 5\n"
     ]
    }
   ],
   "source": [
    "import numpy as np\n",
    "dataset = [5,10,15,200]\n",
    "\n",
    "\n",
    "mean = np.mean(dataset)\n",
    "median = np.median(dataset)\n",
    "std = np.std(dataset)\n",
    "max = np.max(dataset)\n",
    "min = np.min(dataset)\n",
    "\n",
    "print(\"with outliers\")\n",
    "print(\"mean:\",mean)\n",
    "print(\"median:\",median)\n",
    "print(\"std:\",std)\n",
    "print(\"max:\",max)\n",
    "print(\"min:\" , min)\n",
    "\n",
    "\n",
    "data2 = [5,10,15,20]\n",
    "\n",
    "mean2 = np.mean(data2)\n",
    "median2 = np.median(data2)\n",
    "std2 = np.std(data2)\n",
    "max2 = np.max(data2)\n",
    "min2 = np.min(data2)\n",
    "\n",
    "print(\"\\nWithout Outlier:\")\n",
    "print(\"mean:\" , mean2)\n",
    "print(\"median:\" , median2)\n",
    "print(\"std:\" , std2)\n",
    "print(\"max:\" , max2)\n",
    "print(\"min:\" , min2)\n"
   ]
  },
  {
   "cell_type": "markdown",
   "id": "1496ae19-0c73-4a3f-9a3e-b08aa6034325",
   "metadata": {},
   "source": [
    "As we can see, the outlier (200) significantly affected the measures of central tendency and dispersion. With the outlier included, the mean is much larger, the standard deviation is higher, and the range is much wider. Additionally, the median, which is less affected by outliers, remains relatively unchanged. However, upon removing the outlier, the measures return to values more representative of the central tendency and spread of the original data. The median and interquartile range remain the same, while the mean, standard deviation, and range are reduced.\n",
    "\n",
    "This example illustrates the importance of identifying and handling outliers appropriately when analyzing datasets to ensure more accurate and meaningful statistical conclusions"
   ]
  },
  {
   "cell_type": "code",
   "execution_count": null,
   "id": "65e837a2-7026-422b-a980-34a2b42acaa4",
   "metadata": {},
   "outputs": [],
   "source": []
  }
 ],
 "metadata": {
  "kernelspec": {
   "display_name": "Python 3 (ipykernel)",
   "language": "python",
   "name": "python3"
  },
  "language_info": {
   "codemirror_mode": {
    "name": "ipython",
    "version": 3
   },
   "file_extension": ".py",
   "mimetype": "text/x-python",
   "name": "python",
   "nbconvert_exporter": "python",
   "pygments_lexer": "ipython3",
   "version": "3.10.8"
  }
 },
 "nbformat": 4,
 "nbformat_minor": 5
}
